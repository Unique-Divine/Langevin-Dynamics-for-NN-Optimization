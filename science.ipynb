{
 "cells": [
  {
   "cell_type": "markdown",
   "metadata": {
    "id": "N9urKQ3jEPGq"
   },
   "source": [
    "# Setup"
   ]
  },
  {
   "cell_type": "code",
   "execution_count": null,
   "metadata": {
    "id": "ry5Chn_dZp-o"
   },
   "outputs": [],
   "source": [
    "def clone_github_repo():\n",
    "    !git clone https://github.com/Unique-Divine/Langevin-Dynamics-for-NN-Optimization\n",
    "    !mv \"Langevin-Dynamics-for-NN-Optimization\" lib\n",
    "    !ls\n",
    "  \n",
    "clone_github_repo()"
   ]
  },
  {
   "cell_type": "code",
   "execution_count": null,
   "metadata": {
    "id": "H28_gVrJaA0w"
   },
   "outputs": [],
   "source": [
    "def setup_repo_imports():\n",
    "    !pip install --quiet pytorch-lightning\n",
    "    !pip install -q pytest==6.2\n",
    "    !pip install -q tensorboard\n",
    "    # !cp lib/__init__.py __init__.py\n",
    "    import lib\n",
    "    import os\n",
    "    import sys\n",
    "    path_to_lib = os.path.join(\"content\", \"lib\")\n",
    "    current_dir = os.getcwd()\n",
    "    start_with_slash = lambda s: '/' + s if s[0] is not '/' else s\n",
    "    path_to_lib, current_dir = [\n",
    "        start_with_slash(s) for s in [path_to_lib, current_dir]]\n",
    "    !cd lib && ls\n",
    "    if not (path_to_lib == current_dir):\n",
    "        os.chdir('lib')\n",
    "\n",
    "def pass_tests():\n",
    "    import lib.data_modules as data_modules\n",
    "    import lib.lit_modules as lit_modules\n",
    "    from lib import test_project\n",
    "\n",
    "    test_project.TestMNISTOptimizers().test_quick_pass()\n",
    "\n",
    "setup_repo_imports()\n",
    "pass_tests()"
   ]
  },
  {
   "cell_type": "markdown",
   "metadata": {
    "id": "dCC10bDvENJ7"
   },
   "source": [
    "# Optimizer comparisons with Multilayer Perceptrons \n",
    "\n"
   ]
  },
  {
   "cell_type": "code",
   "execution_count": null,
   "metadata": {
    "id": "xAZd47GTEbfy"
   },
   "outputs": [],
   "source": [
    "import torch\n",
    "import torch.nn as nn\n",
    "import torch.nn.functional as F\n",
    "import pytorch_lightning as pl\n",
    "from lib import test_project\n",
    "from lib import data_modules\n",
    "from lib import lit_modules\n",
    "from typing import Generator\n",
    "from pytorch_lightning import loggers\n",
    "from pytorch_lightning.callbacks import early_stopping\n",
    "early_stop_callback = early_stopping.EarlyStopping(\n",
    "    monitor='val_loss',\n",
    "    min_delta=0.00, \n",
    "    patience=3, \n",
    "    verbose=False, \n",
    "    mode='max'\n",
    ")\n",
    "\n",
    "optimizing_fns: dict = test_project.TestMNISTOptimizers().optimizing_fns()\n",
    "\n",
    "def run_experiment(optimizing_fn, num_hidden_layers: int, gpus: int, \n",
    "                   progress_bar: bool = False, fast_dev_run: bool = False, \n",
    "                   experiment_name: str = None):\n",
    "    progress_bar_refresh_rate = 0\n",
    "    if progress_bar:\n",
    "        progress_bar_refresh_rate = 50\n",
    "    data_module = data_modules.MNISTDataModule()\n",
    "    mnist_img_dims = (1, 28, 28)\n",
    "    channels, width, height = mnist_img_dims\n",
    "    network = lit_modules.LitFFNN(\n",
    "        loss_fn=nn.CrossEntropyLoss(), \n",
    "        optimizing_fn=optimizing_fn, \n",
    "        num_hidden_layers=num_hidden_layers, \n",
    "        num_classes=10, \n",
    "        input_dim = channels * width * height\n",
    "        )\n",
    "    \n",
    "    if experiment_name is not None:\n",
    "        name = f\"{experiment_name}_{num_hidden_layers}hidden_layers\"\n",
    "    else: \n",
    "        name = \"default\"\n",
    "    logger = loggers.TensorBoardLogger(\n",
    "        save_dir = 'lightning_logs', \n",
    "        name = name) \n",
    "    trainer = pl.Trainer(gpus=gpus, fast_dev_run=fast_dev_run,\n",
    "                         progress_bar_refresh_rate=progress_bar_refresh_rate,\n",
    "                         callbacks=[early_stop_callback], max_epochs=6, \n",
    "                         logger=logger)\n",
    "    trainer.fit(model=network, datamodule=data_module)\n",
    "    trainer.test(model=network, datamodule=data_module)\n"
   ]
  },
  {
   "cell_type": "markdown",
   "metadata": {
    "id": "L2ipSXVwXipl"
   },
   "source": [
    "If you switch to a gpu runtime, this should only take 3-5 minutes to run. To use the GPU, simply switch 'GPUs' to 1. "
   ]
  },
  {
   "cell_type": "code",
   "execution_count": null,
   "metadata": {
    "id": "xPNmRz4rNOjx"
   },
   "outputs": [],
   "source": [
    "# Make sure things are running smoothly.\n",
    "\n",
    "GPUs: int = 1\n",
    "\n",
    "def experiment_settings() -> Generator:\n",
    "    for num_hidden_layers in [0, 1, 2, 4, 8]:\n",
    "        for optimizer_name in optimizing_fns.keys():\n",
    "            yield num_hidden_layers, optimizer_name\n",
    "            \n",
    "for num_hidden_layers, optimizer_name in experiment_settings():   \n",
    "    run_experiment(\n",
    "        optimizing_fn=optimizing_fns[optimizer_name], \n",
    "        num_hidden_layers=num_hidden_layers, \n",
    "        gpus=GPUs, \n",
    "        progress_bar = False, \n",
    "        fast_dev_run = True, )"
   ]
  },
  {
   "cell_type": "code",
   "execution_count": null,
   "metadata": {
    "id": "wGfiK7xaQzBF"
   },
   "outputs": [],
   "source": [
    "for num_hidden_layers, optimizer_name in experiment_settings():   \n",
    "    run_experiment(\n",
    "        optimizing_fn=optimizing_fns[optimizer_name], \n",
    "        num_hidden_layers=num_hidden_layers, \n",
    "        gpus=GPUs, \n",
    "        progress_bar = True, \n",
    "        fast_dev_run = False, \n",
    "        experiment_name=optimizer_name)"
   ]
  },
  {
   "cell_type": "code",
   "execution_count": null,
   "metadata": {
    "id": "DgnSlwlBYUJO"
   },
   "outputs": [],
   "source": [
    "# To download the training logs for tensorboard\n",
    "!zip -r logs.zip lightning_logs/ "
   ]
  }
 ],
 "metadata": {
  "accelerator": "GPU",
  "colab": {
   "name": "Copy of science.ipynb",
   "provenance": []
  },
  "kernelspec": {
   "display_name": "Python 3",
   "language": "python",
   "name": "python3"
  },
  "language_info": {
   "codemirror_mode": {
    "name": "ipython",
    "version": 3
   },
   "file_extension": ".py",
   "mimetype": "text/x-python",
   "name": "python",
   "nbconvert_exporter": "python",
   "pygments_lexer": "ipython3",
   "version": "3.8.5"
  },
  "toc": {
   "base_numbering": 1,
   "nav_menu": {},
   "number_sections": true,
   "sideBar": true,
   "skip_h1_title": true,
   "title_cell": "Contents",
   "title_sidebar": "Contents",
   "toc_cell": true,
   "toc_position": {},
   "toc_section_display": true,
   "toc_window_display": false
  }
 },
 "nbformat": 4,
 "nbformat_minor": 1
}

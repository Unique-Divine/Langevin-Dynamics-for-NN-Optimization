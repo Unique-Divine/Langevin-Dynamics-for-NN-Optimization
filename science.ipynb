{
  "nbformat": 4,
  "nbformat_minor": 0,
  "metadata": {
    "orig_nbformat": 2,
    "colab": {
      "name": "Copy of science.ipynb",
      "provenance": []
    },
    "language_info": {
      "name": "python"
    },
    "kernelspec": {
      "name": "python3",
      "display_name": "Python 3"
    },
    "accelerator": "GPU"
  },
  "cells": [
    {
      "cell_type": "markdown",
      "metadata": {
        "id": "N9urKQ3jEPGq"
      },
      "source": [
        "# Setup"
      ]
    },
    {
      "cell_type": "code",
      "metadata": {
        "id": "ry5Chn_dZp-o"
      },
      "source": [
        "def clone_github_repo():\n",
        "    !git clone https://github.com/Unique-Divine/SA-Project\n",
        "    !mv \"SA-Project\" lib\n",
        "    !ls\n",
        "  \n",
        "clone_github_repo()"
      ],
      "execution_count": null,
      "outputs": []
    },
    {
      "cell_type": "code",
      "metadata": {
        "id": "H28_gVrJaA0w"
      },
      "source": [
        "def setup_repo_imports():\n",
        "    !pip install --quiet pytorch-lightning\n",
        "    !pip install -q pytest==6.2\n",
        "    !pip install -q tensorboard\n",
        "    # !cp lib/__init__.py __init__.py\n",
        "    import lib\n",
        "    import os\n",
        "    import sys\n",
        "    path_to_lib = os.path.join(\"content\", \"lib\")\n",
        "    current_dir = os.getcwd()\n",
        "    start_with_slash = lambda s: '/' + s if s[0] is not '/' else s\n",
        "    path_to_lib, current_dir = [\n",
        "        start_with_slash(s) for s in [path_to_lib, current_dir]]\n",
        "    !cd lib && ls\n",
        "    if not (path_to_lib == current_dir):\n",
        "        os.chdir('lib')\n",
        "\n",
        "def pass_tests():\n",
        "    import lib.data_modules as data_modules\n",
        "    import lib.lit_modules as lit_modules\n",
        "    from lib import test_project\n",
        "\n",
        "    test_project.TestMNISTOptimizers().test_quick_pass()\n",
        "\n",
        "setup_repo_imports()\n",
        "pass_tests()"
      ],
      "execution_count": null,
      "outputs": []
    },
    {
      "cell_type": "markdown",
      "metadata": {
        "id": "dCC10bDvENJ7"
      },
      "source": [
        "# Optimizer comparisons with Multilayer Perceptrons \n",
        "\n"
      ]
    },
    {
      "cell_type": "code",
      "metadata": {
        "id": "xAZd47GTEbfy"
      },
      "source": [
        "import torch\n",
        "import torch.nn as nn\n",
        "import torch.nn.functional as F\n",
        "import pytorch_lightning as pl\n",
        "from lib import test_project\n",
        "from lib import data_modules\n",
        "from lib import lit_modules\n",
        "from typing import Generator\n",
        "from pytorch_lightning import loggers\n",
        "from pytorch_lightning.callbacks import early_stopping\n",
        "early_stop_callback = early_stopping.EarlyStopping(\n",
        "    monitor='val_loss',\n",
        "    min_delta=0.00, \n",
        "    patience=3, \n",
        "    verbose=False, \n",
        "    mode='max'\n",
        ")\n",
        "\n",
        "optimizing_fns: dict = test_project.TestMNISTOptimizers().optimizing_fns()\n",
        "\n",
        "def run_experiment(optimizing_fn, num_hidden_layers: int, gpus: int, \n",
        "                   progress_bar: bool = False, fast_dev_run: bool = False, \n",
        "                   experiment_name: str = None):\n",
        "    progress_bar_refresh_rate = 0\n",
        "    if progress_bar:\n",
        "        progress_bar_refresh_rate = 50\n",
        "    data_module = data_modules.MNISTDataModule()\n",
        "    mnist_img_dims = (1, 28, 28)\n",
        "    channels, width, height = mnist_img_dims\n",
        "    network = lit_modules.LitFFNN(\n",
        "        loss_fn=nn.CrossEntropyLoss(), \n",
        "        optimizing_fn=optimizing_fn, \n",
        "        num_hidden_layers=num_hidden_layers, \n",
        "        num_classes=10, \n",
        "        input_dim = channels * width * height\n",
        "        )\n",
        "    \n",
        "    if experiment_name is not None:\n",
        "        name = f\"{experiment_name}_{num_hidden_layers}hidden_layers\"\n",
        "    else: \n",
        "        name = \"default\"\n",
        "    logger = loggers.TensorBoardLogger(\n",
        "        save_dir = 'lightning_logs', \n",
        "        name = name) \n",
        "    trainer = pl.Trainer(gpus=gpus, fast_dev_run=fast_dev_run,\n",
        "                         progress_bar_refresh_rate=progress_bar_refresh_rate,\n",
        "                         callbacks=[early_stop_callback], max_epochs=6, \n",
        "                         logger=logger)\n",
        "    trainer.fit(model=network, datamodule=data_module)\n",
        "    trainer.test(model=network, datamodule=data_module)\n"
      ],
      "execution_count": null,
      "outputs": []
    },
    {
      "cell_type": "markdown",
      "metadata": {
        "id": "L2ipSXVwXipl"
      },
      "source": [
        "If you switch to a gpu runtime, this should only take 3-5 minutes to run. To use the GPU, simply switch 'GPUs' to 1. "
      ]
    },
    {
      "cell_type": "code",
      "metadata": {
        "id": "xPNmRz4rNOjx"
      },
      "source": [
        "# Make sure things are running smoothly.\n",
        "\n",
        "GPUs: int = 1\n",
        "\n",
        "def experiment_settings() -> Generator:\n",
        "    for num_hidden_layers in [0, 1, 2, 4, 8]:\n",
        "        for optimizer_name in optimizing_fns.keys():\n",
        "            yield num_hidden_layers, optimizer_name\n",
        "            \n",
        "for num_hidden_layers, optimizer_name in experiment_settings():   \n",
        "    run_experiment(\n",
        "        optimizing_fn=optimizing_fns[optimizer_name], \n",
        "        num_hidden_layers=num_hidden_layers, \n",
        "        gpus=GPUs, \n",
        "        progress_bar = False, \n",
        "        fast_dev_run = True, )"
      ],
      "execution_count": null,
      "outputs": []
    },
    {
      "cell_type": "code",
      "metadata": {
        "id": "wGfiK7xaQzBF"
      },
      "source": [
        "for num_hidden_layers, optimizer_name in experiment_settings():   \n",
        "    run_experiment(\n",
        "        optimizing_fn=optimizing_fns[optimizer_name], \n",
        "        num_hidden_layers=num_hidden_layers, \n",
        "        gpus=GPUs, \n",
        "        progress_bar = True, \n",
        "        fast_dev_run = False, \n",
        "        experiment_name=optimizer_name)"
      ],
      "execution_count": null,
      "outputs": []
    },
    {
      "cell_type": "code",
      "metadata": {
        "id": "DgnSlwlBYUJO"
      },
      "source": [
        "# To download the training logs for tensorboard\n",
        "!zip -r logs.zip lightning_logs/ "
      ],
      "execution_count": null,
      "outputs": []
    }
  ]
}